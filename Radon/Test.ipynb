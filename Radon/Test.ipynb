{
 "cells": [
  {
   "cell_type": "code",
   "execution_count": 1,
   "metadata": {},
   "outputs": [
    {
     "name": "stderr",
     "output_type": "stream",
     "text": [
      "/home/adith/.local/lib/python3.10/site-packages/matplotlib/projections/__init__.py:63: UserWarning: Unable to import Axes3D. This may be due to multiple versions of Matplotlib being installed (e.g. as a system package and as a pip package). As a result, the 3D projection is not available.\n",
      "  warnings.warn(\"Unable to import Axes3D. This may be due to multiple versions of \"\n"
     ]
    }
   ],
   "source": [
    "import numpy as np\n",
    "from numba import jit\n",
    "from tqdm import tqdm\n",
    "import matplotlib.pyplot as plt\n",
    "from scipy.integrate import simps"
   ]
  },
  {
   "cell_type": "code",
   "execution_count": 11,
   "metadata": {},
   "outputs": [],
   "source": [
    "N = 2001\n",
    "arr = np.ones([N,N])\n"
   ]
  },
  {
   "cell_type": "code",
   "execution_count": 12,
   "metadata": {},
   "outputs": [],
   "source": [
    "origin = (N//2,N//2)"
   ]
  },
  {
   "cell_type": "code",
   "execution_count": 13,
   "metadata": {},
   "outputs": [],
   "source": [
    "@jit(nopython=False)\n",
    "def line_points(indices,origin):\n",
    "    # NOTE: Always give index in the positive y quadrant\n",
    "    i,j = indices\n",
    "    i = i-origin[0]\n",
    "    j = j-origin[1]\n",
    "    points1 = [i]\n",
    "    points2 = [j]\n",
    "    for k in range(2,N//2+1):\n",
    "        i1,j1 = i*k,j*k\n",
    "        # print(k)\n",
    "        if not (np.abs(i1)<=origin[0] and np.abs(j1)<=origin[1]):\n",
    "            break\n",
    "        points1.append(i1)\n",
    "        points2.append(j1)\n",
    "    points1 = np.array(points1)\n",
    "    points2 = np.array(points2)\n",
    "    points1 = np.array(list(np.sort(-1*points1+origin[0]))+[origin[0]]+list(points1+origin[0]))\n",
    "    points2 = np.array(list(np.sort(-1*points2+origin[1]))+[origin[1]]+list(points2+origin[1]))\n",
    "    return [points1,points2]\n",
    "\n",
    "\n",
    "def integration(arr,points1,points2,dx_extra=1e-5):\n",
    "    point = list(zip(points1,points2))\n",
    "    # print(arr)\n",
    "    arr_points = np.array([arr[points1[i],points2[i]] for i in range(len(point))])\n",
    "    # print(arr_points)\n",
    "    arr_points = (arr_points[:-1]+arr_points[1:])/2\n",
    "    p0,p1 = point[0],point[1]\n",
    "    dx = np.sqrt((p1[0]-p0[0])**2 + (p1[1]-p0[1])**2)*dx_extra\n",
    "    # print(dx)\n",
    "    # print(arr_points)\n",
    "    return np.sum(arr_points)*dx\n",
    "    # exit()"
   ]
  },
  {
   "cell_type": "code",
   "execution_count": 14,
   "metadata": {},
   "outputs": [],
   "source": [
    "def radon(arr):\n",
    "    # Implementation\n",
    "    N = len(arr)\n",
    "    origin = (N//2,N//2)\n",
    "    phi = []\n",
    "    out = []\n",
    "    for row in tqdm(range(N//2,N)):\n",
    "        for col in range(N):\n",
    "            indices = (row,col)\n",
    "            # print(indices)\n",
    "            if col-origin[1] != 0:\n",
    "                phi_val = np.arctan((row-origin[0])/(col-origin[1]))\n",
    "            else:\n",
    "                phi_val = np.pi/2\n",
    "            if phi_val not in phi:\n",
    "                phi.append(phi_val)\n",
    "                p1,p2 = line_points(indices,origin)\n",
    "                # print(p1,p2)\n",
    "                out.append(integration(arr,p1,p2))\n",
    "    phi,out = zip(*sorted(zip(phi,out)))\n",
    "    return np.array(phi),np.array(out)"
   ]
  },
  {
   "cell_type": "code",
   "execution_count": null,
   "metadata": {},
   "outputs": [
    {
     "name": "stderr",
     "output_type": "stream",
     "text": [
      "  4%|▍         | 38/1001 [00:26<21:19,  1.33s/it]"
     ]
    }
   ],
   "source": [
    "phi,out = radon(arr)"
   ]
  },
  {
   "cell_type": "code",
   "execution_count": 35,
   "metadata": {},
   "outputs": [
    {
     "data": {
      "text/plain": [
       "[<matplotlib.lines.Line2D at 0x7f74e5123640>]"
      ]
     },
     "execution_count": 35,
     "metadata": {},
     "output_type": "execute_result"
    },
    {
     "data": {
      "image/png": "[encoded data removed]",
      "text/plain": [
       "<Figure size 640x480 with 1 Axes>"
      ]
     },
     "metadata": {},
     "output_type": "display_data"
    }
   ],
   "source": [
    "plt.plot(phi,out)\n",
    "# plt.xlim(-1,-0.99)"
   ]
  }
 ],
 "metadata": {
  "kernelspec": {
   "display_name": "Python 3",
   "language": "python",
   "name": "python3"
  },
  "language_info": {
   "codemirror_mode": {
    "name": "ipython",
    "version": 3
   },
   "file_extension": ".py",
   "mimetype": "text/x-python",
   "name": "python",
   "nbconvert_exporter": "python",
   "pygments_lexer": "ipython3",
   "version": "3.10.12"
  }
 },
 "nbformat": 4,
 "nbformat_minor": 2
}
